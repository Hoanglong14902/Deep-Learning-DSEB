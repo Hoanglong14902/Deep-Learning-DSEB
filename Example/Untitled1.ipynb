{
 "cells": [
  {
   "cell_type": "code",
   "execution_count": 2,
   "id": "3d041a75",
   "metadata": {},
   "outputs": [
    {
     "name": "stdout",
     "output_type": "stream",
     "text": [
      "Loss: 324.75773276621356\n"
     ]
    }
   ],
   "source": [
    "import numpy as np\n",
    "import pandas as pd\n",
    "import matplotlib.pyplot as plt\n",
    "\n",
    "# Load the dataset\n",
    "data = pd.read_csv('data_linear.csv').values\n",
    "\n",
    "# Split the dataset into train and test sets\n",
    "N = data.shape[0]\n",
    "train_size = int(0.8 * N)\n",
    "test_size = int(0.2 * N)\n",
    "x_train, y_train = data[:train_size, 0:1], data[:train_size, 1:2]\n",
    "x_test, y_test = data[train_size:, 0:1], data[train_size:, 1:2]\n",
    "\n",
    "# Add a bias term to the input data\n",
    "x_train = np.hstack((np.ones((train_size, 1)), x_train))\n",
    "x_test = np.hstack((np.ones((test_size, 1)), x_test))\n",
    "\n",
    "# Initialize the parameters\n",
    "w = np.zeros((2, 1))\n",
    "\n",
    "# Set the learning rate\n",
    "learning_rate = 0.000001\n",
    "\n",
    "# Gradient descent algorithm\n",
    "num_of_iterations = 100\n",
    "cost = np.zeros((num_of_iterations, 1))\n",
    "for i in range(1, num_of_iterations):\n",
    "    r = np.dot(x_train, w) - y_train\n",
    "    cost[i] = 0.5 * np.sum(r * r)\n",
    "    w[0] -= learning_rate * np.sum(r)\n",
    "    # Correct the shape dimension\n",
    "    w[1] -= learning_rate * np.sum(np.multiply(r, x_train[:, 1].reshape(-1, 1)))\n",
    "\n",
    "# Calculate the predictions on the test set\n",
    "y_pred = np.dot(x_test, w)\n",
    "\n",
    "# Calculate the loss\n",
    "loss = np.mean((y_test - y_pred) ** 2)\n",
    "\n",
    "# Print the results\n",
    "print('Loss:', loss)"
   ]
  },
  {
   "cell_type": "code",
   "execution_count": 3,
   "id": "990d229f",
   "metadata": {},
   "outputs": [
    {
     "data": {
      "image/png": "[encoded data removed]",
      "text/plain": [
       "<Figure size 432x288 with 1 Axes>"
      ]
     },
     "metadata": {
      "needs_background": "light"
     },
     "output_type": "display_data"
    }
   ],
   "source": [
    "# Plot the loss function vs. the number of iterations\n",
    "fig, ax = plt.subplots()\n",
    "ax.plot(cost)\n",
    "ax.set_xlabel('Number of iterations')\n",
    "ax.set_ylabel('Loss')\n",
    "plt.show()"
   ]
  },
  {
   "cell_type": "code",
   "execution_count": 6,
   "id": "5af12943",
   "metadata": {},
   "outputs": [
    {
     "name": "stdout",
     "output_type": "stream",
     "text": [
      "Loss: [3019.61285815]\n",
      "MSE: 324.75773276621356\n",
      "RMSE: 18.02103584054517\n",
      "MAE: 14.59316865995523\n",
      "MAPE: 0.01011372161978157\n"
     ]
    }
   ],
   "source": [
    "# Calculate the MSE, RMSE, MAE, and MAPE on the test set\n",
    "mse = np.mean((y_test - y_pred) ** 2)\n",
    "rmse = np.sqrt(mse)\n",
    "mae = np.mean(np.abs(y_test - y_pred))\n",
    "mape = np.mean(np.abs(y_test - y_pred) / y_test)\n",
    "# Print the results\n",
    "print('Loss:', cost[-1])\n",
    "print('MSE:', mse)\n",
    "print('RMSE:', rmse)\n",
    "print('MAE:', mae)\n",
    "print('MAPE:', mape)"
   ]
  },
  {
   "cell_type": "code",
   "execution_count": 8,
   "id": "a2b7e07f",
   "metadata": {},
   "outputs": [
    {
     "name": "stdout",
     "output_type": "stream",
     "text": [
      "Loss: 320.1254541110516\n"
     ]
    },
    {
     "data": {
      "image/png": "[encoded data removed]",
      "text/plain": [
       "<Figure size 432x288 with 1 Axes>"
      ]
     },
     "metadata": {
      "needs_background": "light"
     },
     "output_type": "display_data"
    },
    {
     "name": "stdout",
     "output_type": "stream",
     "text": [
      "Loss: [3019.37115757]\n",
      "MSE: 320.1254541110516\n",
      "RMSE: 17.892050025389814\n",
      "MAE: 14.475485629267533\n",
      "MAPE: 0.010034350914830037\n"
     ]
    }
   ],
   "source": [
    "# Set the learning rate\n",
    "learning_rate = 0.00001\n",
    "\n",
    "# Gradient descent algorithm\n",
    "num_of_iterations = 100\n",
    "cost = np.zeros((num_of_iterations, 1))\n",
    "for i in range(1, num_of_iterations):\n",
    "    r = np.dot(x_train, w) - y_train\n",
    "    cost[i] = 0.5 * np.sum(r * r)\n",
    "    w[0] -= learning_rate * np.sum(r)\n",
    "    # Correct the shape dimension\n",
    "    w[1] -= learning_rate * np.sum(np.multiply(r, x_train[:, 1].reshape(-1, 1)))\n",
    "\n",
    "# Calculate the predictions on the test set\n",
    "y_pred = np.dot(x_test, w)\n",
    "\n",
    "# Calculate the loss\n",
    "loss = np.mean((y_test - y_pred) ** 2)\n",
    "\n",
    "# Print the results\n",
    "print('Loss:', loss)\n",
    "\n",
    "# Plot the loss function vs. the number of iterations\n",
    "fig, ax = plt.subplots()\n",
    "ax.plot(cost)\n",
    "ax.set_xlabel('Number of iterations')\n",
    "ax.set_ylabel('Loss')\n",
    "plt.show()\n",
    "\n",
    "# Calculate the MSE, RMSE, MAE, and MAPE on the test set\n",
    "mse = np.mean((y_test - y_pred) ** 2)\n",
    "rmse = np.sqrt(mse)\n",
    "mae = np.mean(np.abs(y_test - y_pred))\n",
    "mape = np.mean(np.abs(y_test - y_pred) / y_test)\n",
    "# Print the results\n",
    "print('Loss:', cost[-1])\n",
    "print('MSE:', mse)\n",
    "print('RMSE:', rmse)\n",
    "print('MAE:', mae)\n",
    "print('MAPE:', mape)"
   ]
  },
  {
   "cell_type": "code",
   "execution_count": 9,
   "id": "1cfd98ea",
   "metadata": {},
   "outputs": [
    {
     "name": "stdout",
     "output_type": "stream",
     "text": [
      "Loss: 2.228080271850678e+149\n"
     ]
    },
    {
     "data": {
      "image/png": "[encoded data removed]",
      "text/plain": [
       "<Figure size 432x288 with 1 Axes>"
      ]
     },
     "metadata": {
      "needs_background": "light"
     },
     "output_type": "display_data"
    },
    {
     "name": "stdout",
     "output_type": "stream",
     "text": [
      "Loss: [1.8533861e+148]\n",
      "MSE: 2.228080271850678e+149\n",
      "RMSE: 4.720254518403302e+74\n",
      "MAE: 4.715720177999275e+74\n",
      "MAPE: 3.302480840584306e+71\n"
     ]
    }
   ],
   "source": [
    "# Set the learning rate\n",
    "learning_rate = 0.0001\n",
    "\n",
    "# Gradient descent algorithm\n",
    "num_of_iterations = 100\n",
    "cost = np.zeros((num_of_iterations, 1))\n",
    "for i in range(1, num_of_iterations):\n",
    "    r = np.dot(x_train, w) - y_train\n",
    "    cost[i] = 0.5 * np.sum(r * r)\n",
    "    w[0] -= learning_rate * np.sum(r)\n",
    "    # Correct the shape dimension\n",
    "    w[1] -= learning_rate * np.sum(np.multiply(r, x_train[:, 1].reshape(-1, 1)))\n",
    "\n",
    "# Calculate the predictions on the test set\n",
    "y_pred = np.dot(x_test, w)\n",
    "\n",
    "# Calculate the loss\n",
    "loss = np.mean((y_test - y_pred) ** 2)\n",
    "\n",
    "# Print the results\n",
    "print('Loss:', loss)\n",
    "\n",
    "# Plot the loss function vs. the number of iterations\n",
    "fig, ax = plt.subplots()\n",
    "ax.plot(cost)\n",
    "ax.set_xlabel('Number of iterations')\n",
    "ax.set_ylabel('Loss')\n",
    "plt.show()\n",
    "\n",
    "# Calculate the MSE, RMSE, MAE, and MAPE on the test set\n",
    "mse = np.mean((y_test - y_pred) ** 2)\n",
    "rmse = np.sqrt(mse)\n",
    "mae = np.mean(np.abs(y_test - y_pred))\n",
    "mape = np.mean(np.abs(y_test - y_pred) / y_test)\n",
    "# Print the results\n",
    "print('Loss:', cost[-1])\n",
    "print('MSE:', mse)\n",
    "print('RMSE:', rmse)\n",
    "print('MAE:', mae)\n",
    "print('MAPE:', mape)"
   ]
  },
  {
   "cell_type": "code",
   "execution_count": 13,
   "id": "ab4390b4",
   "metadata": {},
   "outputs": [
    {
     "ename": "ValueError",
     "evalue": "not enough values to unpack (expected 4, got 2)",
     "output_type": "error",
     "traceback": [
      "\u001b[1;31m---------------------------------------------------------------------------\u001b[0m",
      "\u001b[1;31mValueError\u001b[0m                                Traceback (most recent call last)",
      "\u001b[1;32m<ipython-input-13-2c9557704fcd>\u001b[0m in \u001b[0;36m<module>\u001b[1;34m\u001b[0m\n\u001b[0;32m     46\u001b[0m     \u001b[0mtest_size\u001b[0m \u001b[1;33m=\u001b[0m \u001b[1;36m0.2\u001b[0m\u001b[1;33m\u001b[0m\u001b[1;33m\u001b[0m\u001b[0m\n\u001b[0;32m     47\u001b[0m     \u001b[0mlearning_rates\u001b[0m \u001b[1;33m=\u001b[0m \u001b[1;33m[\u001b[0m\u001b[1;36m0.000001\u001b[0m\u001b[1;33m,\u001b[0m \u001b[1;36m0.00001\u001b[0m\u001b[1;33m,\u001b[0m \u001b[1;36m0.0001\u001b[0m\u001b[1;33m]\u001b[0m\u001b[1;33m\u001b[0m\u001b[1;33m\u001b[0m\u001b[0m\n\u001b[1;32m---> 48\u001b[1;33m     \u001b[0mtrain_and_evaluate\u001b[0m\u001b[1;33m(\u001b[0m\u001b[0mdata\u001b[0m\u001b[1;33m,\u001b[0m \u001b[0mtest_size\u001b[0m\u001b[1;33m,\u001b[0m \u001b[0mlearning_rates\u001b[0m\u001b[1;33m)\u001b[0m\u001b[1;33m\u001b[0m\u001b[1;33m\u001b[0m\u001b[0m\n\u001b[0m",
      "\u001b[1;32m<ipython-input-13-2c9557704fcd>\u001b[0m in \u001b[0;36mtrain_and_evaluate\u001b[1;34m(data, test_size, learning_rates)\u001b[0m\n\u001b[0;32m     16\u001b[0m     \u001b[1;32mfor\u001b[0m \u001b[0mlearning_rate\u001b[0m \u001b[1;32min\u001b[0m \u001b[0mlearning_rates\u001b[0m\u001b[1;33m:\u001b[0m\u001b[1;33m\u001b[0m\u001b[1;33m\u001b[0m\u001b[0m\n\u001b[0;32m     17\u001b[0m         \u001b[1;31m# Load the data\u001b[0m\u001b[1;33m\u001b[0m\u001b[1;33m\u001b[0m\u001b[1;33m\u001b[0m\u001b[0m\n\u001b[1;32m---> 18\u001b[1;33m         \u001b[0mx_train\u001b[0m\u001b[1;33m,\u001b[0m \u001b[0mx_test\u001b[0m\u001b[1;33m,\u001b[0m \u001b[0my_train\u001b[0m\u001b[1;33m,\u001b[0m \u001b[0my_test\u001b[0m \u001b[1;33m=\u001b[0m \u001b[0msplit_data\u001b[0m\u001b[1;33m(\u001b[0m\u001b[0mdata\u001b[0m\u001b[1;33m,\u001b[0m \u001b[0mtest_size\u001b[0m\u001b[1;33m)\u001b[0m\u001b[1;33m\u001b[0m\u001b[1;33m\u001b[0m\u001b[0m\n\u001b[0m\u001b[0;32m     19\u001b[0m \u001b[1;33m\u001b[0m\u001b[0m\n\u001b[0;32m     20\u001b[0m         \u001b[1;31m# Add a bias term to the input data\u001b[0m\u001b[1;33m\u001b[0m\u001b[1;33m\u001b[0m\u001b[1;33m\u001b[0m\u001b[0m\n",
      "\u001b[1;32m<ipython-input-13-2c9557704fcd>\u001b[0m in \u001b[0;36msplit_data\u001b[1;34m(data, test_size)\u001b[0m\n\u001b[0;32m     10\u001b[0m \u001b[1;32mdef\u001b[0m \u001b[0msplit_data\u001b[0m\u001b[1;33m(\u001b[0m\u001b[0mdata\u001b[0m\u001b[1;33m,\u001b[0m \u001b[0mtest_size\u001b[0m\u001b[1;33m)\u001b[0m\u001b[1;33m:\u001b[0m\u001b[1;33m\u001b[0m\u001b[1;33m\u001b[0m\u001b[0m\n\u001b[0;32m     11\u001b[0m     \u001b[1;34m\"\"\"Split the dataset into train and test sets.\"\"\"\u001b[0m\u001b[1;33m\u001b[0m\u001b[1;33m\u001b[0m\u001b[0m\n\u001b[1;32m---> 12\u001b[1;33m     \u001b[0mx_train\u001b[0m\u001b[1;33m,\u001b[0m \u001b[0mx_test\u001b[0m\u001b[1;33m,\u001b[0m \u001b[0my_train\u001b[0m\u001b[1;33m,\u001b[0m \u001b[0my_test\u001b[0m \u001b[1;33m=\u001b[0m \u001b[0mtrain_test_split\u001b[0m\u001b[1;33m(\u001b[0m\u001b[0mdata\u001b[0m\u001b[1;33m,\u001b[0m \u001b[0mtest_size\u001b[0m\u001b[1;33m=\u001b[0m\u001b[0mtest_size\u001b[0m\u001b[1;33m)\u001b[0m\u001b[1;33m\u001b[0m\u001b[1;33m\u001b[0m\u001b[0m\n\u001b[0m\u001b[0;32m     13\u001b[0m     \u001b[1;32mreturn\u001b[0m \u001b[0mx_train\u001b[0m\u001b[1;33m,\u001b[0m \u001b[0mx_test\u001b[0m\u001b[1;33m,\u001b[0m \u001b[0my_train\u001b[0m\u001b[1;33m,\u001b[0m \u001b[0my_test\u001b[0m\u001b[1;33m\u001b[0m\u001b[1;33m\u001b[0m\u001b[0m\n\u001b[0;32m     14\u001b[0m \u001b[1;32mdef\u001b[0m \u001b[0mtrain_and_evaluate\u001b[0m\u001b[1;33m(\u001b[0m\u001b[0mdata\u001b[0m\u001b[1;33m,\u001b[0m \u001b[0mtest_size\u001b[0m\u001b[1;33m,\u001b[0m \u001b[0mlearning_rates\u001b[0m\u001b[1;33m)\u001b[0m\u001b[1;33m:\u001b[0m\u001b[1;33m\u001b[0m\u001b[1;33m\u001b[0m\u001b[0m\n",
      "\u001b[1;31mValueError\u001b[0m: not enough values to unpack (expected 4, got 2)"
     ]
    }
   ],
   "source": [
    "import numpy as np\n",
    "import pandas as pd\n",
    "import matplotlib.pyplot as plt\n",
    "from sklearn.model_selection import train_test_split\n",
    "\n",
    "def load_data():\n",
    "    \"\"\"Load the dataset from a CSV file.\"\"\"\n",
    "    data = pd.read_csv('data_linear.csv').values\n",
    "    return data\n",
    "def split_data(data, test_size):\n",
    "    \"\"\"Split the dataset into train and test sets.\"\"\"\n",
    "    x_train, x_test, y_train, y_test = train_test_split(data, test_size=test_size)\n",
    "    return x_train, x_test, y_train, y_test\n",
    "def train_and_evaluate(data, test_size, learning_rates):\n",
    "    \"\"\"Train and evaluate the model for different learning rates.\"\"\"\n",
    "    for learning_rate in learning_rates:\n",
    "        # Load the data\n",
    "        x_train, x_test, y_train, y_test = split_data(data, test_size)\n",
    "\n",
    "        # Add a bias term to the input data\n",
    "        x_train = add_bias(x_train)\n",
    "        x_test = add_bias(x_test)\n",
    "\n",
    "        # Initialize the parameters\n",
    "        w = initialize_parameters()\n",
    "\n",
    "        # Run the gradient descent algorithm\n",
    "        w, cost = gradient_descent(x_train, y_train, w, learning_rate=learning_rate, num_of_iterations=100)\n",
    "\n",
    "        # Predict the output for the test set\n",
    "        y_pred = predict(x_test, w)\n",
    "\n",
    "        # Calculate the MSE, RMSE, MAE, and MAPE on the test set\n",
    "        mse, rmse, mae, mape = calculate_metrics(y_test, y_pred)\n",
    "\n",
    "        # Print the results\n",
    "        print('Learning rate:', learning_rate)\n",
    "        print('Loss:', cost[-1])\n",
    "        print('MSE:', mse)\n",
    "        print('RMSE:', rmse)\n",
    "        print('MAE:', mae)\n",
    "        print('MAPE:', mape)\n",
    "\n",
    "if __name__ == '__main__':\n",
    "    data = load_data()\n",
    "    test_size = 0.2\n",
    "    learning_rates = [0.000001, 0.00001, 0.0001]\n",
    "    train_and_evaluate(data, test_size, learning_rates)"
   ]
  },
  {
   "cell_type": "code",
   "execution_count": 2,
   "id": "8d7f0308",
   "metadata": {},
   "outputs": [
    {
     "name": "stdout",
     "output_type": "stream",
     "text": [
      "Collecting torch\n",
      "  Downloading torch-2.0.1-cp38-cp38-win_amd64.whl (172.4 MB)\n",
      "Requirement already satisfied: sympy in d:\\anaconda\\lib\\site-packages (from torch) (1.8)\n",
      "Requirement already satisfied: filelock in d:\\anaconda\\lib\\site-packages (from torch) (3.12.2)\n",
      "Requirement already satisfied: typing-extensions in d:\\anaconda\\lib\\site-packages (from torch) (3.7.4.3)\n",
      "Requirement already satisfied: jinja2 in d:\\anaconda\\lib\\site-packages (from torch) (2.11.3)\n",
      "Requirement already satisfied: networkx in d:\\anaconda\\lib\\site-packages (from torch) (2.5)\n",
      "Requirement already satisfied: MarkupSafe>=0.23 in d:\\anaconda\\lib\\site-packages (from jinja2->torch) (1.1.1)\n",
      "Requirement already satisfied: decorator>=4.3.0 in d:\\anaconda\\lib\\site-packages (from networkx->torch) (5.0.6)\n",
      "Requirement already satisfied: mpmath>=0.19 in d:\\anaconda\\lib\\site-packages (from sympy->torch) (1.2.1)\n",
      "Installing collected packages: torch\n",
      "Successfully installed torch-2.0.1\n"
     ]
    }
   ],
   "source": [
    "!pip install torch"
   ]
  },
  {
   "cell_type": "code",
   "execution_count": 18,
   "id": "d4329eda",
   "metadata": {},
   "outputs": [],
   "source": [
    "import torch\n",
    "import numpy as np\n",
    "import matplotlib.pyplot as plt\n",
    " \n",
    "# Creating a function f(X) with a slope of -5\n",
    "X = torch.arange(-5, 5, 0.1).view(-1, 1)\n",
    "func = X**2\n",
    " \n",
    "# Adding Gaussian noise to the function f(X) and saving it in Y\n",
    "Y = func + 0.2 * torch.randn(X.size())\n",
    "\n",
    "# Plot and visualizing the data points in blue\n",
    "plt.plot(X.numpy(), Y.numpy(), 'b+', label='Y')\n",
    "plt.plot(X.numpy(), func.numpy(), 'r', label='func')\n",
    "plt.xlabel('x')\n",
    "plt.ylabel('y')\n",
    "plt.legend()\n",
    "plt.grid('True', color='y')\n",
    "plt.show()"
   ]
  },
  {
   "cell_type": "code",
   "execution_count": 19,
   "id": "cb4aa36c",
   "metadata": {},
   "outputs": [
    {
     "data": {
      "image/png": "[encoded data removed]",
      "text/plain": [
       "<Figure size 432x288 with 1 Axes>"
      ]
     },
     "metadata": {
      "needs_background": "light"
     },
     "output_type": "display_data"
    }
   ],
   "source": [
    "# Plot and visualizing the data points in blue\n",
    "plt.plot(X.numpy(), Y.numpy(), 'b+', label='Y')\n",
    "plt.plot(X.numpy(), func.numpy(), 'r', label='func')\n",
    "plt.xlabel('x')\n",
    "plt.ylabel('y')\n",
    "plt.legend()\n",
    "plt.grid('True', color='y')\n",
    "plt.show()"
   ]
  },
  {
   "cell_type": "code",
   "execution_count": 22,
   "id": "88e116cc",
   "metadata": {},
   "outputs": [
    {
     "ename": "ValueError",
     "evalue": "x and y must have same first dimension, but have shapes (100, 1) and (1, 1)",
     "output_type": "error",
     "traceback": [
      "\u001b[1;31m---------------------------------------------------------------------------\u001b[0m",
      "\u001b[1;31mValueError\u001b[0m                                Traceback (most recent call last)",
      "\u001b[1;32m<ipython-input-22-4244013c74ec>\u001b[0m in \u001b[0;36m<module>\u001b[1;34m\u001b[0m\n\u001b[0;32m     13\u001b[0m \u001b[1;31m# Plot and visualizing the data points in blue\u001b[0m\u001b[1;33m\u001b[0m\u001b[1;33m\u001b[0m\u001b[1;33m\u001b[0m\u001b[0m\n\u001b[0;32m     14\u001b[0m \u001b[1;32mfor\u001b[0m \u001b[0mi\u001b[0m \u001b[1;32min\u001b[0m \u001b[0mrange\u001b[0m\u001b[1;33m(\u001b[0m\u001b[1;36m10\u001b[0m\u001b[1;33m)\u001b[0m\u001b[1;33m:\u001b[0m\u001b[1;33m\u001b[0m\u001b[1;33m\u001b[0m\u001b[0m\n\u001b[1;32m---> 15\u001b[1;33m     \u001b[0mplt\u001b[0m\u001b[1;33m.\u001b[0m\u001b[0mplot\u001b[0m\u001b[1;33m(\u001b[0m\u001b[0mX\u001b[0m\u001b[1;33m.\u001b[0m\u001b[0mnumpy\u001b[0m\u001b[1;33m(\u001b[0m\u001b[1;33m)\u001b[0m\u001b[1;33m,\u001b[0m \u001b[0mY\u001b[0m\u001b[1;33m.\u001b[0m\u001b[0mnumpy\u001b[0m\u001b[1;33m(\u001b[0m\u001b[1;33m)\u001b[0m\u001b[1;33m[\u001b[0m\u001b[0mi\u001b[0m\u001b[1;33m,\u001b[0m \u001b[1;33m:\u001b[0m\u001b[1;33m]\u001b[0m\u001b[1;33m,\u001b[0m \u001b[1;34m'b+'\u001b[0m\u001b[1;33m,\u001b[0m \u001b[0mlabel\u001b[0m\u001b[1;33m=\u001b[0m\u001b[1;34m'Y'\u001b[0m\u001b[1;33m)\u001b[0m\u001b[1;33m\u001b[0m\u001b[1;33m\u001b[0m\u001b[0m\n\u001b[0m\u001b[0;32m     16\u001b[0m     \u001b[0mplt\u001b[0m\u001b[1;33m.\u001b[0m\u001b[0mplot\u001b[0m\u001b[1;33m(\u001b[0m\u001b[0mX\u001b[0m\u001b[1;33m.\u001b[0m\u001b[0mnumpy\u001b[0m\u001b[1;33m(\u001b[0m\u001b[1;33m)\u001b[0m\u001b[1;33m,\u001b[0m \u001b[0mfunc\u001b[0m\u001b[1;33m.\u001b[0m\u001b[0mnumpy\u001b[0m\u001b[1;33m(\u001b[0m\u001b[1;33m)\u001b[0m\u001b[1;33m,\u001b[0m \u001b[1;34m'r'\u001b[0m\u001b[1;33m,\u001b[0m \u001b[0mlabel\u001b[0m\u001b[1;33m=\u001b[0m\u001b[1;34m'func'\u001b[0m\u001b[1;33m)\u001b[0m\u001b[1;33m\u001b[0m\u001b[1;33m\u001b[0m\u001b[0m\n\u001b[0;32m     17\u001b[0m \u001b[0mplt\u001b[0m\u001b[1;33m.\u001b[0m\u001b[0mxlabel\u001b[0m\u001b[1;33m(\u001b[0m\u001b[1;34m'x'\u001b[0m\u001b[1;33m)\u001b[0m\u001b[1;33m\u001b[0m\u001b[1;33m\u001b[0m\u001b[0m\n",
      "\u001b[1;32mD:\\anaconda\\lib\\site-packages\\matplotlib\\pyplot.py\u001b[0m in \u001b[0;36mplot\u001b[1;34m(scalex, scaley, data, *args, **kwargs)\u001b[0m\n\u001b[0;32m   2838\u001b[0m \u001b[1;33m@\u001b[0m\u001b[0m_copy_docstring_and_deprecators\u001b[0m\u001b[1;33m(\u001b[0m\u001b[0mAxes\u001b[0m\u001b[1;33m.\u001b[0m\u001b[0mplot\u001b[0m\u001b[1;33m)\u001b[0m\u001b[1;33m\u001b[0m\u001b[1;33m\u001b[0m\u001b[0m\n\u001b[0;32m   2839\u001b[0m \u001b[1;32mdef\u001b[0m \u001b[0mplot\u001b[0m\u001b[1;33m(\u001b[0m\u001b[1;33m*\u001b[0m\u001b[0margs\u001b[0m\u001b[1;33m,\u001b[0m \u001b[0mscalex\u001b[0m\u001b[1;33m=\u001b[0m\u001b[1;32mTrue\u001b[0m\u001b[1;33m,\u001b[0m \u001b[0mscaley\u001b[0m\u001b[1;33m=\u001b[0m\u001b[1;32mTrue\u001b[0m\u001b[1;33m,\u001b[0m \u001b[0mdata\u001b[0m\u001b[1;33m=\u001b[0m\u001b[1;32mNone\u001b[0m\u001b[1;33m,\u001b[0m \u001b[1;33m**\u001b[0m\u001b[0mkwargs\u001b[0m\u001b[1;33m)\u001b[0m\u001b[1;33m:\u001b[0m\u001b[1;33m\u001b[0m\u001b[1;33m\u001b[0m\u001b[0m\n\u001b[1;32m-> 2840\u001b[1;33m     return gca().plot(\n\u001b[0m\u001b[0;32m   2841\u001b[0m         \u001b[1;33m*\u001b[0m\u001b[0margs\u001b[0m\u001b[1;33m,\u001b[0m \u001b[0mscalex\u001b[0m\u001b[1;33m=\u001b[0m\u001b[0mscalex\u001b[0m\u001b[1;33m,\u001b[0m \u001b[0mscaley\u001b[0m\u001b[1;33m=\u001b[0m\u001b[0mscaley\u001b[0m\u001b[1;33m,\u001b[0m\u001b[1;33m\u001b[0m\u001b[1;33m\u001b[0m\u001b[0m\n\u001b[0;32m   2842\u001b[0m         **({\"data\": data} if data is not None else {}), **kwargs)\n",
      "\u001b[1;32mD:\\anaconda\\lib\\site-packages\\matplotlib\\axes\\_axes.py\u001b[0m in \u001b[0;36mplot\u001b[1;34m(self, scalex, scaley, data, *args, **kwargs)\u001b[0m\n\u001b[0;32m   1741\u001b[0m         \"\"\"\n\u001b[0;32m   1742\u001b[0m         \u001b[0mkwargs\u001b[0m \u001b[1;33m=\u001b[0m \u001b[0mcbook\u001b[0m\u001b[1;33m.\u001b[0m\u001b[0mnormalize_kwargs\u001b[0m\u001b[1;33m(\u001b[0m\u001b[0mkwargs\u001b[0m\u001b[1;33m,\u001b[0m \u001b[0mmlines\u001b[0m\u001b[1;33m.\u001b[0m\u001b[0mLine2D\u001b[0m\u001b[1;33m)\u001b[0m\u001b[1;33m\u001b[0m\u001b[1;33m\u001b[0m\u001b[0m\n\u001b[1;32m-> 1743\u001b[1;33m         \u001b[0mlines\u001b[0m \u001b[1;33m=\u001b[0m \u001b[1;33m[\u001b[0m\u001b[1;33m*\u001b[0m\u001b[0mself\u001b[0m\u001b[1;33m.\u001b[0m\u001b[0m_get_lines\u001b[0m\u001b[1;33m(\u001b[0m\u001b[1;33m*\u001b[0m\u001b[0margs\u001b[0m\u001b[1;33m,\u001b[0m \u001b[0mdata\u001b[0m\u001b[1;33m=\u001b[0m\u001b[0mdata\u001b[0m\u001b[1;33m,\u001b[0m \u001b[1;33m**\u001b[0m\u001b[0mkwargs\u001b[0m\u001b[1;33m)\u001b[0m\u001b[1;33m]\u001b[0m\u001b[1;33m\u001b[0m\u001b[1;33m\u001b[0m\u001b[0m\n\u001b[0m\u001b[0;32m   1744\u001b[0m         \u001b[1;32mfor\u001b[0m \u001b[0mline\u001b[0m \u001b[1;32min\u001b[0m \u001b[0mlines\u001b[0m\u001b[1;33m:\u001b[0m\u001b[1;33m\u001b[0m\u001b[1;33m\u001b[0m\u001b[0m\n\u001b[0;32m   1745\u001b[0m             \u001b[0mself\u001b[0m\u001b[1;33m.\u001b[0m\u001b[0madd_line\u001b[0m\u001b[1;33m(\u001b[0m\u001b[0mline\u001b[0m\u001b[1;33m)\u001b[0m\u001b[1;33m\u001b[0m\u001b[1;33m\u001b[0m\u001b[0m\n",
      "\u001b[1;32mD:\\anaconda\\lib\\site-packages\\matplotlib\\axes\\_base.py\u001b[0m in \u001b[0;36m__call__\u001b[1;34m(self, data, *args, **kwargs)\u001b[0m\n\u001b[0;32m    271\u001b[0m                 \u001b[0mthis\u001b[0m \u001b[1;33m+=\u001b[0m \u001b[0margs\u001b[0m\u001b[1;33m[\u001b[0m\u001b[1;36m0\u001b[0m\u001b[1;33m]\u001b[0m\u001b[1;33m,\u001b[0m\u001b[1;33m\u001b[0m\u001b[1;33m\u001b[0m\u001b[0m\n\u001b[0;32m    272\u001b[0m                 \u001b[0margs\u001b[0m \u001b[1;33m=\u001b[0m \u001b[0margs\u001b[0m\u001b[1;33m[\u001b[0m\u001b[1;36m1\u001b[0m\u001b[1;33m:\u001b[0m\u001b[1;33m]\u001b[0m\u001b[1;33m\u001b[0m\u001b[1;33m\u001b[0m\u001b[0m\n\u001b[1;32m--> 273\u001b[1;33m             \u001b[1;32myield\u001b[0m \u001b[1;32mfrom\u001b[0m \u001b[0mself\u001b[0m\u001b[1;33m.\u001b[0m\u001b[0m_plot_args\u001b[0m\u001b[1;33m(\u001b[0m\u001b[0mthis\u001b[0m\u001b[1;33m,\u001b[0m \u001b[0mkwargs\u001b[0m\u001b[1;33m)\u001b[0m\u001b[1;33m\u001b[0m\u001b[1;33m\u001b[0m\u001b[0m\n\u001b[0m\u001b[0;32m    274\u001b[0m \u001b[1;33m\u001b[0m\u001b[0m\n\u001b[0;32m    275\u001b[0m     \u001b[1;32mdef\u001b[0m \u001b[0mget_next_color\u001b[0m\u001b[1;33m(\u001b[0m\u001b[0mself\u001b[0m\u001b[1;33m)\u001b[0m\u001b[1;33m:\u001b[0m\u001b[1;33m\u001b[0m\u001b[1;33m\u001b[0m\u001b[0m\n",
      "\u001b[1;32mD:\\anaconda\\lib\\site-packages\\matplotlib\\axes\\_base.py\u001b[0m in \u001b[0;36m_plot_args\u001b[1;34m(self, tup, kwargs)\u001b[0m\n\u001b[0;32m    397\u001b[0m \u001b[1;33m\u001b[0m\u001b[0m\n\u001b[0;32m    398\u001b[0m         \u001b[1;32mif\u001b[0m \u001b[0mx\u001b[0m\u001b[1;33m.\u001b[0m\u001b[0mshape\u001b[0m\u001b[1;33m[\u001b[0m\u001b[1;36m0\u001b[0m\u001b[1;33m]\u001b[0m \u001b[1;33m!=\u001b[0m \u001b[0my\u001b[0m\u001b[1;33m.\u001b[0m\u001b[0mshape\u001b[0m\u001b[1;33m[\u001b[0m\u001b[1;36m0\u001b[0m\u001b[1;33m]\u001b[0m\u001b[1;33m:\u001b[0m\u001b[1;33m\u001b[0m\u001b[1;33m\u001b[0m\u001b[0m\n\u001b[1;32m--> 399\u001b[1;33m             raise ValueError(f\"x and y must have same first dimension, but \"\n\u001b[0m\u001b[0;32m    400\u001b[0m                              f\"have shapes {x.shape} and {y.shape}\")\n\u001b[0;32m    401\u001b[0m         \u001b[1;32mif\u001b[0m \u001b[0mx\u001b[0m\u001b[1;33m.\u001b[0m\u001b[0mndim\u001b[0m \u001b[1;33m>\u001b[0m \u001b[1;36m2\u001b[0m \u001b[1;32mor\u001b[0m \u001b[0my\u001b[0m\u001b[1;33m.\u001b[0m\u001b[0mndim\u001b[0m \u001b[1;33m>\u001b[0m \u001b[1;36m2\u001b[0m\u001b[1;33m:\u001b[0m\u001b[1;33m\u001b[0m\u001b[1;33m\u001b[0m\u001b[0m\n",
      "\u001b[1;31mValueError\u001b[0m: x and y must have same first dimension, but have shapes (100, 1) and (1, 1)"
     ]
    },
    {
     "data": {
      "image/png": "[encoded data removed]",
      "text/plain": [
       "<Figure size 432x288 with 1 Axes>"
      ]
     },
     "metadata": {
      "needs_background": "light"
     },
     "output_type": "display_data"
    }
   ],
   "source": [
    "import torch\n",
    "import numpy as np\n",
    "import matplotlib.pyplot as plt\n",
    "\n",
    "# Creating a function f(X) with a slope of -5\n",
    "X = torch.arange(-5, 5, 0.1).view(-1, 1)\n",
    "func = X**2\n",
    "\n",
    "# Adding Gaussian noise to the function f(X) and saving it in Y\n",
    "Y = func + 0.2 * torch.randn(X.size())\n",
    "Y = Y.unsqueeze(1)\n",
    "\n",
    "# Plot and visualizing the data points in blue\n",
    "for i in range(10):\n",
    "    plt.plot(X.numpy(), Y.numpy()[i, :], 'b+', label='Y')\n",
    "    plt.plot(X.numpy(), func.numpy(), 'r', label='func')\n",
    "plt.xlabel('x')\n",
    "plt.ylabel('y')\n",
    "plt.legend()\n",
    "plt.grid(True, color='y')\n",
    "plt.show()"
   ]
  },
  {
   "cell_type": "code",
   "execution_count": 16,
   "id": "c3a8349a",
   "metadata": {},
   "outputs": [
    {
     "data": {
      "image/png": "[encoded data removed]",
      "text/plain": [
       "<Figure size 432x288 with 2 Axes>"
      ]
     },
     "metadata": {
      "needs_background": "light"
     },
     "output_type": "display_data"
    }
   ],
   "source": [
    "import torch\n",
    "import matplotlib.pyplot as plt\n",
    "\n",
    "# Define the function f(x) = x^2\n",
    "def f(x):\n",
    "    return x ** 2\n",
    "\n",
    "# Initialize the starting point\n",
    "x = torch.tensor([5.0], requires_grad=True)\n",
    "\n",
    "# Define the learning rates\n",
    "learning_rates = [0.2, 2]\n",
    "\n",
    "# Perform gradient descent for each learning rate\n",
    "for lr in learning_rates:\n",
    "    # Store the values of x and f(x) after each update\n",
    "    x_list = []\n",
    "    fx_list = []\n",
    "\n",
    "    # Perform 10 iterations of gradient descent\n",
    "    for _ in range(10):\n",
    "        # Compute the function value and the derivative\n",
    "        fx = f(x)\n",
    "        fx.backward()\n",
    "\n",
    "        # Update x using the learning rate\n",
    "        x += lr * x.grad\n",
    "\n",
    "        # Reset the gradients\n",
    "        x.grad.zero_()\n",
    "\n",
    "        # Append the current x and f(x) to the lists\n",
    "        x_list.append(x.item())\n",
    "        fx_list.append(fx.item())\n",
    "\n",
    "    # Plot the graph\n",
    "    plt.plot(x_list, fx_list, label=f'LR={lr}')\n",
    "\n",
    "# Add labels and legend to the plot\n",
    "plt.xlabel('Iterations')\n",
    "plt.ylabel('f(x)')\n",
    "plt.legend()\n",
    "\n",
    "# Show the plot\n",
    "plt.show()"
   ]
  },
  {
   "cell_type": "code",
   "execution_count": 20,
   "id": "2bc2337e",
   "metadata": {},
   "outputs": [
    {
     "data": {
      "image/png": "[encoded data removed]",
      "text/plain": [
       "<Figure size 432x288 with 1 Axes>"
      ]
     },
     "metadata": {
      "needs_background": "light"
     },
     "output_type": "display_data"
    },
    {
     "data": {
      "image/png": "[encoded data removed]",
      "text/plain": [
       "<Figure size 432x288 with 1 Axes>"
      ]
     },
     "metadata": {
      "needs_background": "light"
     },
     "output_type": "display_data"
    }
   ],
   "source": [
    "\n",
    "import torch\n",
    "import matplotlib.pyplot as plt\n",
    "\n",
    "# Define the function f(x) = x^2\n",
    "def f(x):\n",
    "    return x ** 2\n",
    "\n",
    "# Initialize the starting point\n",
    "x = torch.tensor([5.0], requires_grad=True)\n",
    "\n",
    "# Define the learning rates\n",
    "learning_rates = [0.2, 2]\n",
    "\n",
    "# Plot the graph for each learning rate separately\n",
    "for lr in learning_rates:\n",
    "    # Store the values of x and f(x) after each update\n",
    "    x_list = []\n",
    "    fx_list = []\n",
    "\n",
    "    # Perform 10 iterations of gradient descent\n",
    "    for _ in range(10):\n",
    "        # Compute the function value and the derivative\n",
    "        fx = f(x)\n",
    "        fx.backward()\n",
    "\n",
    "        # Update x using the learning rate\n",
    "        with torch.no_grad():\n",
    "            x -= lr * x.grad\n",
    "\n",
    "        # Reset the gradients\n",
    "        x.grad.zero_()\n",
    "\n",
    "        # Append the current x and f(x) to the lists\n",
    "        x_list.append(x.item())\n",
    "        fx_list.append(fx.item())\n",
    "\n",
    "    # Plot the graph for the current learning rate\n",
    "    plt.plot(x_list, fx_list, label=f'LR={lr}')\n",
    "    plt.xlabel('Iterations')\n",
    "    plt.ylabel('f(x)')\n",
    "    plt.legend()\n",
    "\n",
    "    # Show the plot\n",
    "    plt.show()"
   ]
  }
 ],
 "metadata": {
  "kernelspec": {
   "display_name": "Python 3",
   "language": "python",
   "name": "python3"
  },
  "language_info": {
   "codemirror_mode": {
    "name": "ipython",
    "version": 3
   },
   "file_extension": ".py",
   "mimetype": "text/x-python",
   "name": "python",
   "nbconvert_exporter": "python",
   "pygments_lexer": "ipython3",
   "version": "3.8.8"
  }
 },
 "nbformat": 4,
 "nbformat_minor": 5
}
